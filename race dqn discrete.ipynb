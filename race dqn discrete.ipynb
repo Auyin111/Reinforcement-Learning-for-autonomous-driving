{
 "cells": [
  {
   "cell_type": "code",
   "execution_count": 1,
   "id": "9d44e715-2c71-4e03-aef0-6e4bbc34b93c",
   "metadata": {},
   "outputs": [
    {
     "name": "stderr",
     "output_type": "stream",
     "text": [
      "C:\\Users\\auyin11\\anaconda3\\envs\\rl_game_pip\\lib\\site-packages\\tqdm\\auto.py:22: TqdmWarning: IProgress not found. Please update jupyter and ipywidgets. See https://ipywidgets.readthedocs.io/en/stable/user_install.html\n",
      "  from .autonotebook import tqdm as notebook_tqdm\n"
     ]
    }
   ],
   "source": [
    "import gym\n",
    "import math\n",
    "import random\n",
    "import matplotlib\n",
    "import matplotlib.pyplot as plt\n",
    "import wandb\n",
    "import random\n",
    "import time\n",
    "import pickle \n",
    "import torch\n",
    "import torch.nn as nn\n",
    "import torch.optim as optim\n",
    "import torch.nn.functional as F\n",
    "import time\n",
    "import numpy as np\n",
    "import os\n",
    "import cv2\n",
    "\n",
    "from PIL import Image\n",
    "from collections import namedtuple, deque\n",
    "from itertools import count\n",
    "\n",
    "from models.on_track_cls import OnTrackClsNet\n",
    "from models.rl_car_racing import DQN\n",
    "from dp_spec.img import preprocess_img\n",
    "from dp_util.img import load_img, output_to_arr\n",
    "from dp_util.dqn import ReplayMemory, find_eps_thres\n",
    "from dp_spec.dqn import optimize_model, select_action\n",
    "from cfgs.rl_car_racing import RlCarRacingCfg"
   ]
  },
  {
   "cell_type": "code",
   "execution_count": 2,
   "id": "b082c2fc-24d6-492c-94ef-575d6d5e36c8",
   "metadata": {},
   "outputs": [],
   "source": [
    "load_prev_md = False\n",
    "\n",
    "step_waiting = 50\n",
    "on_track_cls_file = 'on_track_classifier_v_2_0_5.pth'\n",
    "img_num = 1\n",
    "dir_auto_img = r'D:\\file\\data\\racing\\auto_img'\n",
    "Transition = namedtuple('Transition',\n",
    "                        ('state', 'action', 'next_state', 'reward'))\n",
    "collect_img = False"
   ]
  },
  {
   "cell_type": "code",
   "execution_count": 3,
   "id": "1ed0dfe1-d94f-411d-abb6-adcfc03e8bac",
   "metadata": {},
   "outputs": [
    {
     "name": "stderr",
     "output_type": "stream",
     "text": [
      "Failed to detect the name of this notebook, you can set it manually with the WANDB_NOTEBOOK_NAME environment variable to enable code saving.\n",
      "\u001b[34m\u001b[1mwandb\u001b[0m: Currently logged in as: \u001b[33mauyin11\u001b[0m (\u001b[33mkaggle_winner\u001b[0m). Use \u001b[1m`wandb login --relogin`\u001b[0m to force relogin\n"
     ]
    },
    {
     "data": {
      "text/html": [
       "Tracking run with wandb version 0.15.5"
      ],
      "text/plain": [
       "<IPython.core.display.HTML object>"
      ]
     },
     "metadata": {},
     "output_type": "display_data"
    },
    {
     "data": {
      "text/html": [
       "Run data is saved locally in <code>C:\\Users\\auyin11\\PycharmProjects\\rl_game\\wandb\\run-20230717_235547-i2gg7p2a</code>"
      ],
      "text/plain": [
       "<IPython.core.display.HTML object>"
      ]
     },
     "metadata": {},
     "output_type": "display_data"
    },
    {
     "data": {
      "text/html": [
       "Syncing run <strong><a href='https://wandb.ai/kaggle_winner/rl_CarRacing/runs/i2gg7p2a' target=\"_blank\">v_2_2_7</a></strong> to <a href='https://wandb.ai/kaggle_winner/rl_CarRacing' target=\"_blank\">Weights & Biases</a> (<a href='https://wandb.me/run' target=\"_blank\">docs</a>)<br/>"
      ],
      "text/plain": [
       "<IPython.core.display.HTML object>"
      ]
     },
     "metadata": {},
     "output_type": "display_data"
    },
    {
     "data": {
      "text/html": [
       " View project at <a href='https://wandb.ai/kaggle_winner/rl_CarRacing' target=\"_blank\">https://wandb.ai/kaggle_winner/rl_CarRacing</a>"
      ],
      "text/plain": [
       "<IPython.core.display.HTML object>"
      ]
     },
     "metadata": {},
     "output_type": "display_data"
    },
    {
     "data": {
      "text/html": [
       " View run at <a href='https://wandb.ai/kaggle_winner/rl_CarRacing/runs/i2gg7p2a' target=\"_blank\">https://wandb.ai/kaggle_winner/rl_CarRacing/runs/i2gg7p2a</a>"
      ],
      "text/plain": [
       "<IPython.core.display.HTML object>"
      ]
     },
     "metadata": {},
     "output_type": "display_data"
    },
    {
     "name": "stdout",
     "output_type": "stream",
     "text": [
      "device: cuda\n"
     ]
    }
   ],
   "source": [
    "cfg = RlCarRacingCfg(test_mode=False, dir_data='./')\n",
    "\n",
    "wandb.init(project=cfg.project, entity=cfg.entity,\n",
    "           group=f'{cfg.user}_{cfg.model}', job_type=\"train\",\n",
    "           name= cfg.version)\n",
    "\n",
    "device = torch.device(\"cuda\" if torch.cuda.is_available() else \"cpu\")\n",
    "print(f'device: {device}')"
   ]
  },
  {
   "cell_type": "code",
   "execution_count": 4,
   "id": "84b60017-5d26-4f43-84f3-8b44354e40cf",
   "metadata": {},
   "outputs": [
    {
     "name": "stderr",
     "output_type": "stream",
     "text": [
      "C:\\Users\\auyin11\\anaconda3\\envs\\rl_game_pip\\lib\\site-packages\\scipy\\__init__.py:146: UserWarning: A NumPy version >=1.17.3 and <1.25.0 is required for this version of SciPy (detected version 1.25.1\n",
      "  warnings.warn(f\"A NumPy version >={np_minversion} and <{np_maxversion}\"\n"
     ]
    },
    {
     "data": {
      "text/plain": [
       "<All keys matched successfully>"
      ]
     },
     "execution_count": 4,
     "metadata": {},
     "output_type": "execute_result"
    }
   ],
   "source": [
    "# load the on track classifier model and encoder\n",
    "with open('ont_hot_encoder.pkl', 'rb') as f:\n",
    "    encoder = pickle.load(f)     \n",
    "# extract definition of prediction output\n",
    "on_track_label = encoder.categories_[0].tolist().index('on')\n",
    "off_track_label = encoder.categories_[0].tolist().index('off')\n",
    "\n",
    "on_track_cls_net = OnTrackClsNet().to(device)\n",
    "on_track_cls_net.load_state_dict(torch.load(on_track_cls_file))"
   ]
  },
  {
   "cell_type": "code",
   "execution_count": 5,
   "id": "952e512f-0e84-49ef-adcb-b0c4f8799592",
   "metadata": {},
   "outputs": [
    {
     "data": {
      "text/plain": [
       "[<matplotlib.lines.Line2D at 0x2970320d670>]"
      ]
     },
     "execution_count": 5,
     "metadata": {},
     "output_type": "execute_result"
    },
    {
     "data": {
      "image/png": "[encoded data removed]",
      "text/plain": [
       "<Figure size 640x480 with 1 Axes>"
      ]
     },
     "metadata": {},
     "output_type": "display_data"
    }
   ],
   "source": [
    "# preview the eps threshold\n",
    "list_steps_done = np.linspace(1, 50000, num=20)\n",
    "list_eps_threshold = []\n",
    "\n",
    "for x in list_steps_done:\n",
    "    list_eps_threshold.append(find_eps_thres(cfg, x))\n",
    "\n",
    "plt.style.use('dark_background')    \n",
    "plt.plot(list_steps_done, list_eps_threshold, c =\"white\", linestyle='dashed', marker='o')"
   ]
  },
  {
   "cell_type": "code",
   "execution_count": null,
   "id": "9dab221a-2929-4bd8-a9fc-0791a1c19ebf",
   "metadata": {},
   "outputs": [],
   "source": []
  },
  {
   "cell_type": "code",
   "execution_count": 6,
   "id": "a75f76c0-5a42-4ddd-bb25-216ffadd2b62",
   "metadata": {},
   "outputs": [],
   "source": [
    "env = gym.make(\"CarRacing-v2\", render_mode='human', continuous=False)\n",
    "\n",
    "n_actions = env.action_space.n\n",
    "\n",
    "state_dim = (2, 84, 84)\n",
    "input_size = state_dim[1]\n",
    "\n",
    "policy_net = DQN(state_dim[0], input_size, n_actions).to(device)\n",
    "target_net = DQN(state_dim[0], input_size, n_actions).to(device)\n",
    "optimizer = optim.AdamW(policy_net.parameters(), lr=cfg.LR, amsgrad=True)"
   ]
  },
  {
   "cell_type": "code",
   "execution_count": 7,
   "id": "7e71da29-a233-4913-9d89-1aa585a19364",
   "metadata": {},
   "outputs": [
    {
     "name": "stdout",
     "output_type": "stream",
     "text": [
      "start to train a new model\n"
     ]
    }
   ],
   "source": [
    "if load_prev_md:\n",
    "    print(f'load the previous model {cfg.md_name.split(\".\")[0]}')\n",
    "    \n",
    "    policy_net.load_state_dict(torch.load(f'poli_{cfg.md_name}'))\n",
    "    target_net.load_state_dict(torch.load(f'tg_{cfg.md_name}'))\n",
    "\n",
    "    with open(f\"dict_cp_{cfg.md_name.split('.')[0]}.pkl\", 'rb') as f:\n",
    "        dict_cp = pickle.load(f)  \n",
    "        \n",
    "    memory = dict_cp['memory']\n",
    "    list_reward_round_sum = dict_cp['list_reward_round_sum']\n",
    "    list_round_avg_loss = dict_cp['list_round_avg_loss']\n",
    "    steps_done = dict_cp['steps_done']\n",
    "    i_episode = dict_cp['i_episode']\n",
    "    eps_threshold = dict_cp['eps_threshold']\n",
    "    \n",
    "# start from a new records\n",
    "else:\n",
    "    print('start to train a new model')\n",
    "    target_net.load_state_dict(policy_net.state_dict())\n",
    "    \n",
    "    memory = ReplayMemory(cfg.MEMORY_CAP)\n",
    "    list_reward_round_sum = []\n",
    "    list_round_avg_loss = []\n",
    "    steps_done = 0\n",
    "    i_episode = 1\n",
    "    eps_threshold = cfg.EPS_START"
   ]
  },
  {
   "cell_type": "code",
   "execution_count": 8,
   "id": "9c1556c0-f48f-4e49-b4b4-42fc5f54d200",
   "metadata": {},
   "outputs": [
    {
     "name": "stdout",
     "output_type": "stream",
     "text": [
      "i_episode: 1, eps_threshold: 1.00000\n"
     ]
    },
    {
     "name": "stderr",
     "output_type": "stream",
     "text": [
      "C:\\Users\\auyin11\\anaconda3\\envs\\rl_game_pip\\lib\\site-packages\\gym\\utils\\passive_env_checker.py:233: DeprecationWarning: `np.bool8` is a deprecated alias for `np.bool_`.  (Deprecated NumPy 1.24)\n",
      "  if not isinstance(terminated, (bool, np.bool8)):\n",
      "C:\\Users\\auyin11\\anaconda3\\envs\\rl_game_pip\\lib\\site-packages\\numpy\\core\\fromnumeric.py:3504: RuntimeWarning: Mean of empty slice.\n",
      "  return _methods._mean(a, axis=axis, dtype=dtype,\n",
      "C:\\Users\\auyin11\\anaconda3\\envs\\rl_game_pip\\lib\\site-packages\\numpy\\core\\_methods.py:129: RuntimeWarning: invalid value encountered in scalar divide\n",
      "  ret = ret.dtype.type(ret / rcount)\n"
     ]
    },
    {
     "name": "stdout",
     "output_type": "stream",
     "text": [
      "i_episode: 2, eps_threshold: 0.90483\n",
      "i_episode: 3, eps_threshold: 0.81920\n",
      "i_episode: 4, eps_threshold: 0.74214\n",
      "start to train model\n"
     ]
    },
    {
     "name": "stderr",
     "output_type": "stream",
     "text": [
      "C:\\Users\\auyin11\\anaconda3\\envs\\rl_game_pip\\lib\\site-packages\\torch\\nn\\modules\\loss.py:912: UserWarning: Using a target size (torch.Size([48, 1])) that is different to the input size (torch.Size([48, 5])). This will likely lead to incorrect results due to broadcasting. Please ensure they have the same size.\n",
      "  return F.smooth_l1_loss(input, target, reduction=self.reduction, beta=self.beta)\n"
     ]
    },
    {
     "name": "stdout",
     "output_type": "stream",
     "text": [
      "i_episode: 5, eps_threshold: 0.67281\n",
      "i_episode: 6, eps_threshold: 0.61042\n",
      "i_episode: 7, eps_threshold: 0.55428\n",
      "i_episode: 8, eps_threshold: 0.50376\n",
      "i_episode: 9, eps_threshold: 0.45831\n",
      "i_episode: 10, eps_threshold: 0.41740\n",
      "i_episode: 11, eps_threshold: 0.38060\n",
      "i_episode: 12, eps_threshold: 0.34748\n",
      "i_episode: 13, eps_threshold: 0.31768\n",
      "i_episode: 14, eps_threshold: 0.29087\n",
      "i_episode: 15, eps_threshold: 0.26674\n",
      "i_episode: 16, eps_threshold: 0.24503\n",
      "i_episode: 17, eps_threshold: 0.22549\n",
      "i_episode: 18, eps_threshold: 0.20791\n",
      "i_episode: 19, eps_threshold: 0.19209\n",
      "i_episode: 20, eps_threshold: 0.17786\n",
      "i_episode: 21, eps_threshold: 0.16505\n",
      "i_episode: 22, eps_threshold: 0.15352\n",
      "i_episode: 23, eps_threshold: 0.14315\n",
      "i_episode: 24, eps_threshold: 0.13382\n",
      "i_episode: 25, eps_threshold: 0.12542\n",
      "i_episode: 26, eps_threshold: 0.11787\n",
      "i_episode: 27, eps_threshold: 0.11107\n",
      "i_episode: 28, eps_threshold: 0.10495\n",
      "i_episode: 29, eps_threshold: 0.09945\n",
      "i_episode: 30, eps_threshold: 0.09449\n",
      "i_episode: 31, eps_threshold: 0.09004\n",
      "i_episode: 32, eps_threshold: 0.08603\n",
      "i_episode: 33, eps_threshold: 0.08242\n",
      "i_episode: 34, eps_threshold: 0.07917\n",
      "i_episode: 35, eps_threshold: 0.07625\n",
      "i_episode: 36, eps_threshold: 0.07362\n",
      "i_episode: 37, eps_threshold: 0.07125\n",
      "i_episode: 38, eps_threshold: 0.06912\n",
      "i_episode: 39, eps_threshold: 0.06721\n",
      "i_episode: 40, eps_threshold: 0.06548\n",
      "i_episode: 41, eps_threshold: 0.06393\n",
      "i_episode: 42, eps_threshold: 0.06254\n",
      "i_episode: 43, eps_threshold: 0.06128\n",
      "i_episode: 44, eps_threshold: 0.06015\n",
      "i_episode: 45, eps_threshold: 0.05913\n",
      "i_episode: 46, eps_threshold: 0.05822\n",
      "i_episode: 47, eps_threshold: 0.05740\n",
      "i_episode: 48, eps_threshold: 0.05665\n",
      "i_episode: 49, eps_threshold: 0.05599\n",
      "i_episode: 50, eps_threshold: 0.05539\n",
      "i_episode: 51, eps_threshold: 0.05485\n",
      "i_episode: 52, eps_threshold: 0.05436\n",
      "i_episode: 53, eps_threshold: 0.05393\n",
      "i_episode: 54, eps_threshold: 0.05353\n",
      "i_episode: 55, eps_threshold: 0.05318\n",
      "i_episode: 56, eps_threshold: 0.05286\n",
      "i_episode: 57, eps_threshold: 0.05257\n",
      "i_episode: 58, eps_threshold: 0.05232\n",
      "i_episode: 59, eps_threshold: 0.05208\n",
      "i_episode: 60, eps_threshold: 0.05188\n",
      "i_episode: 61, eps_threshold: 0.05169\n",
      "i_episode: 62, eps_threshold: 0.05152\n",
      "i_episode: 63, eps_threshold: 0.05137\n",
      "i_episode: 64, eps_threshold: 0.05123\n",
      "i_episode: 65, eps_threshold: 0.05111\n",
      "i_episode: 66, eps_threshold: 0.05100\n",
      "i_episode: 67, eps_threshold: 0.05090\n",
      "i_episode: 68, eps_threshold: 0.05081\n",
      "i_episode: 69, eps_threshold: 0.05073\n",
      "i_episode: 70, eps_threshold: 0.05065\n",
      "i_episode: 71, eps_threshold: 0.05059\n",
      "i_episode: 72, eps_threshold: 0.05053\n",
      "i_episode: 73, eps_threshold: 0.05048\n",
      "i_episode: 74, eps_threshold: 0.05043\n",
      "i_episode: 75, eps_threshold: 0.05038\n",
      "i_episode: 76, eps_threshold: 0.05035\n",
      "i_episode: 77, eps_threshold: 0.05031\n",
      "i_episode: 78, eps_threshold: 0.05028\n",
      "i_episode: 79, eps_threshold: 0.05025\n",
      "i_episode: 80, eps_threshold: 0.05023\n",
      "i_episode: 81, eps_threshold: 0.05020\n",
      "i_episode: 82, eps_threshold: 0.05018\n",
      "i_episode: 83, eps_threshold: 0.05017\n",
      "i_episode: 84, eps_threshold: 0.05015\n",
      "i_episode: 85, eps_threshold: 0.05013\n",
      "i_episode: 86, eps_threshold: 0.05012\n",
      "i_episode: 87, eps_threshold: 0.05011\n",
      "i_episode: 88, eps_threshold: 0.05010\n",
      "i_episode: 89, eps_threshold: 0.05009\n",
      "i_episode: 90, eps_threshold: 0.05008\n",
      "i_episode: 91, eps_threshold: 0.05007\n",
      "i_episode: 92, eps_threshold: 0.05006\n",
      "i_episode: 93, eps_threshold: 0.05006\n",
      "i_episode: 94, eps_threshold: 0.05005\n",
      "i_episode: 95, eps_threshold: 0.05005\n",
      "i_episode: 96, eps_threshold: 0.05004\n",
      "i_episode: 97, eps_threshold: 0.05004\n",
      "i_episode: 98, eps_threshold: 0.05003\n",
      "i_episode: 99, eps_threshold: 0.05003\n",
      "i_episode: 100, eps_threshold: 0.05003\n",
      "i_episode: 101, eps_threshold: 0.05002\n",
      "i_episode: 102, eps_threshold: 0.05002\n",
      "i_episode: 103, eps_threshold: 0.05002\n",
      "i_episode: 104, eps_threshold: 0.05002\n",
      "i_episode: 105, eps_threshold: 0.05002\n",
      "i_episode: 106, eps_threshold: 0.05001\n",
      "i_episode: 107, eps_threshold: 0.05001\n",
      "i_episode: 108, eps_threshold: 0.05001\n",
      "i_episode: 109, eps_threshold: 0.05001\n",
      "i_episode: 110, eps_threshold: 0.05001\n",
      "i_episode: 111, eps_threshold: 0.05001\n",
      "i_episode: 112, eps_threshold: 0.05001\n",
      "i_episode: 113, eps_threshold: 0.05001\n",
      "i_episode: 114, eps_threshold: 0.05001\n",
      "i_episode: 115, eps_threshold: 0.05001\n",
      "i_episode: 116, eps_threshold: 0.05001\n",
      "i_episode: 117, eps_threshold: 0.05000\n",
      "i_episode: 118, eps_threshold: 0.05000\n",
      "i_episode: 119, eps_threshold: 0.05000\n",
      "i_episode: 120, eps_threshold: 0.05000\n",
      "i_episode: 121, eps_threshold: 0.05000\n",
      "i_episode: 122, eps_threshold: 0.05000\n",
      "i_episode: 123, eps_threshold: 0.05000\n",
      "i_episode: 124, eps_threshold: 0.05000\n",
      "i_episode: 125, eps_threshold: 0.05000\n",
      "i_episode: 126, eps_threshold: 0.05000\n",
      "i_episode: 127, eps_threshold: 0.05000\n",
      "i_episode: 128, eps_threshold: 0.05000\n",
      "i_episode: 129, eps_threshold: 0.05000\n",
      "i_episode: 130, eps_threshold: 0.05000\n",
      "i_episode: 131, eps_threshold: 0.05000\n",
      "i_episode: 132, eps_threshold: 0.05000\n",
      "i_episode: 133, eps_threshold: 0.05000\n",
      "i_episode: 134, eps_threshold: 0.05000\n",
      "i_episode: 135, eps_threshold: 0.05000\n",
      "i_episode: 136, eps_threshold: 0.05000\n",
      "i_episode: 137, eps_threshold: 0.05000\n",
      "i_episode: 138, eps_threshold: 0.05000\n",
      "i_episode: 139, eps_threshold: 0.05000\n",
      "i_episode: 140, eps_threshold: 0.05000\n",
      "i_episode: 141, eps_threshold: 0.05000\n",
      "i_episode: 142, eps_threshold: 0.05000\n",
      "i_episode: 143, eps_threshold: 0.05000\n",
      "i_episode: 144, eps_threshold: 0.05000\n",
      "i_episode: 145, eps_threshold: 0.05000\n",
      "i_episode: 146, eps_threshold: 0.05000\n",
      "i_episode: 147, eps_threshold: 0.05000\n",
      "i_episode: 148, eps_threshold: 0.05000\n",
      "i_episode: 149, eps_threshold: 0.05000\n",
      "i_episode: 150, eps_threshold: 0.05000\n",
      "i_episode: 151, eps_threshold: 0.05000\n",
      "i_episode: 152, eps_threshold: 0.05000\n",
      "i_episode: 153, eps_threshold: 0.05000\n",
      "i_episode: 154, eps_threshold: 0.05000\n",
      "i_episode: 155, eps_threshold: 0.05000\n",
      "i_episode: 156, eps_threshold: 0.05000\n",
      "i_episode: 157, eps_threshold: 0.05000\n",
      "i_episode: 158, eps_threshold: 0.05000\n",
      "i_episode: 159, eps_threshold: 0.05000\n",
      "i_episode: 160, eps_threshold: 0.05000\n",
      "i_episode: 161, eps_threshold: 0.05000\n",
      "i_episode: 162, eps_threshold: 0.05000\n",
      "i_episode: 163, eps_threshold: 0.05000\n",
      "i_episode: 164, eps_threshold: 0.05000\n",
      "i_episode: 165, eps_threshold: 0.05000\n",
      "i_episode: 166, eps_threshold: 0.05000\n",
      "i_episode: 167, eps_threshold: 0.05000\n",
      "i_episode: 168, eps_threshold: 0.05000\n",
      "i_episode: 169, eps_threshold: 0.05000\n",
      "i_episode: 170, eps_threshold: 0.05000\n",
      "i_episode: 171, eps_threshold: 0.05000\n",
      "i_episode: 172, eps_threshold: 0.05000\n",
      "i_episode: 173, eps_threshold: 0.05000\n",
      "i_episode: 174, eps_threshold: 0.05000\n",
      "i_episode: 175, eps_threshold: 0.05000\n",
      "i_episode: 176, eps_threshold: 0.05000\n",
      "i_episode: 177, eps_threshold: 0.05000\n",
      "i_episode: 178, eps_threshold: 0.05000\n",
      "i_episode: 179, eps_threshold: 0.05000\n",
      "i_episode: 180, eps_threshold: 0.05000\n",
      "i_episode: 181, eps_threshold: 0.05000\n",
      "i_episode: 182, eps_threshold: 0.05000\n",
      "i_episode: 183, eps_threshold: 0.05000\n",
      "i_episode: 184, eps_threshold: 0.05000\n",
      "i_episode: 185, eps_threshold: 0.05000\n",
      "i_episode: 186, eps_threshold: 0.05000\n",
      "i_episode: 187, eps_threshold: 0.05000\n",
      "i_episode: 188, eps_threshold: 0.05000\n",
      "i_episode: 189, eps_threshold: 0.05000\n",
      "i_episode: 190, eps_threshold: 0.05000\n",
      "i_episode: 191, eps_threshold: 0.05000\n",
      "i_episode: 192, eps_threshold: 0.05000\n",
      "i_episode: 193, eps_threshold: 0.05000\n",
      "i_episode: 194, eps_threshold: 0.05000\n",
      "i_episode: 195, eps_threshold: 0.05000\n",
      "i_episode: 196, eps_threshold: 0.05000\n",
      "i_episode: 197, eps_threshold: 0.05000\n",
      "i_episode: 198, eps_threshold: 0.05000\n",
      "i_episode: 199, eps_threshold: 0.05000\n",
      "i_episode: 200, eps_threshold: 0.05000\n",
      "i_episode: 201, eps_threshold: 0.05000\n",
      "i_episode: 202, eps_threshold: 0.05000\n",
      "i_episode: 203, eps_threshold: 0.05000\n",
      "i_episode: 204, eps_threshold: 0.05000\n",
      "i_episode: 205, eps_threshold: 0.05000\n",
      "i_episode: 206, eps_threshold: 0.05000\n",
      "i_episode: 207, eps_threshold: 0.05000\n",
      "i_episode: 208, eps_threshold: 0.05000\n",
      "i_episode: 209, eps_threshold: 0.05000\n",
      "i_episode: 210, eps_threshold: 0.05000\n",
      "i_episode: 211, eps_threshold: 0.05000\n",
      "i_episode: 212, eps_threshold: 0.05000\n",
      "i_episode: 213, eps_threshold: 0.05000\n",
      "i_episode: 214, eps_threshold: 0.05000\n",
      "i_episode: 215, eps_threshold: 0.05000\n",
      "i_episode: 216, eps_threshold: 0.05000\n",
      "i_episode: 217, eps_threshold: 0.05000\n",
      "i_episode: 218, eps_threshold: 0.05000\n",
      "i_episode: 219, eps_threshold: 0.05000\n",
      "i_episode: 220, eps_threshold: 0.05000\n",
      "i_episode: 221, eps_threshold: 0.05000\n",
      "i_episode: 222, eps_threshold: 0.05000\n",
      "i_episode: 223, eps_threshold: 0.05000\n",
      "i_episode: 224, eps_threshold: 0.05000\n",
      "i_episode: 225, eps_threshold: 0.05000\n",
      "i_episode: 226, eps_threshold: 0.05000\n",
      "i_episode: 227, eps_threshold: 0.05000\n",
      "i_episode: 228, eps_threshold: 0.05000\n",
      "i_episode: 229, eps_threshold: 0.05000\n",
      "i_episode: 230, eps_threshold: 0.05000\n",
      "i_episode: 231, eps_threshold: 0.05000\n",
      "i_episode: 232, eps_threshold: 0.05000\n",
      "i_episode: 233, eps_threshold: 0.05000\n",
      "i_episode: 234, eps_threshold: 0.05000\n",
      "i_episode: 235, eps_threshold: 0.05000\n"
     ]
    },
    {
     "ename": "KeyboardInterrupt",
     "evalue": "",
     "output_type": "error",
     "traceback": [
      "\u001b[1;31m---------------------------------------------------------------------------\u001b[0m",
      "\u001b[1;31mKeyboardInterrupt\u001b[0m                         Traceback (most recent call last)",
      "Cell \u001b[1;32mIn[8], line 29\u001b[0m\n\u001b[0;32m     27\u001b[0m states \u001b[38;5;241m=\u001b[39m torch\u001b[38;5;241m.\u001b[39mconcat((prev_state, state))\u001b[38;5;241m.\u001b[39munsqueeze(\u001b[38;5;241m0\u001b[39m)\n\u001b[0;32m     28\u001b[0m action \u001b[38;5;241m=\u001b[39m select_action(policy_net, states, eps_threshold)\n\u001b[1;32m---> 29\u001b[0m observation, reward, terminated, truncated, _ \u001b[38;5;241m=\u001b[39m \u001b[43menv\u001b[49m\u001b[38;5;241;43m.\u001b[39;49m\u001b[43mstep\u001b[49m\u001b[43m(\u001b[49m\u001b[43maction\u001b[49m\u001b[43m)\u001b[49m\n\u001b[0;32m     31\u001b[0m \u001b[38;5;66;03m# increase the positive reward to encourage using gas\u001b[39;00m\n\u001b[0;32m     32\u001b[0m \u001b[38;5;28;01mif\u001b[39;00m reward \u001b[38;5;241m>\u001b[39m \u001b[38;5;241m0\u001b[39m:\n",
      "File \u001b[1;32m~\\anaconda3\\envs\\rl_game_pip\\lib\\site-packages\\gym\\wrappers\\time_limit.py:50\u001b[0m, in \u001b[0;36mTimeLimit.step\u001b[1;34m(self, action)\u001b[0m\n\u001b[0;32m     39\u001b[0m \u001b[38;5;28;01mdef\u001b[39;00m \u001b[38;5;21mstep\u001b[39m(\u001b[38;5;28mself\u001b[39m, action):\n\u001b[0;32m     40\u001b[0m \u001b[38;5;250m    \u001b[39m\u001b[38;5;124;03m\"\"\"Steps through the environment and if the number of steps elapsed exceeds ``max_episode_steps`` then truncate.\u001b[39;00m\n\u001b[0;32m     41\u001b[0m \n\u001b[0;32m     42\u001b[0m \u001b[38;5;124;03m    Args:\u001b[39;00m\n\u001b[1;32m   (...)\u001b[0m\n\u001b[0;32m     48\u001b[0m \n\u001b[0;32m     49\u001b[0m \u001b[38;5;124;03m    \"\"\"\u001b[39;00m\n\u001b[1;32m---> 50\u001b[0m     observation, reward, terminated, truncated, info \u001b[38;5;241m=\u001b[39m \u001b[38;5;28;43mself\u001b[39;49m\u001b[38;5;241;43m.\u001b[39;49m\u001b[43menv\u001b[49m\u001b[38;5;241;43m.\u001b[39;49m\u001b[43mstep\u001b[49m\u001b[43m(\u001b[49m\u001b[43maction\u001b[49m\u001b[43m)\u001b[49m\n\u001b[0;32m     51\u001b[0m     \u001b[38;5;28mself\u001b[39m\u001b[38;5;241m.\u001b[39m_elapsed_steps \u001b[38;5;241m+\u001b[39m\u001b[38;5;241m=\u001b[39m \u001b[38;5;241m1\u001b[39m\n\u001b[0;32m     53\u001b[0m     \u001b[38;5;28;01mif\u001b[39;00m \u001b[38;5;28mself\u001b[39m\u001b[38;5;241m.\u001b[39m_elapsed_steps \u001b[38;5;241m>\u001b[39m\u001b[38;5;241m=\u001b[39m \u001b[38;5;28mself\u001b[39m\u001b[38;5;241m.\u001b[39m_max_episode_steps:\n",
      "File \u001b[1;32m~\\anaconda3\\envs\\rl_game_pip\\lib\\site-packages\\gym\\wrappers\\order_enforcing.py:37\u001b[0m, in \u001b[0;36mOrderEnforcing.step\u001b[1;34m(self, action)\u001b[0m\n\u001b[0;32m     35\u001b[0m \u001b[38;5;28;01mif\u001b[39;00m \u001b[38;5;129;01mnot\u001b[39;00m \u001b[38;5;28mself\u001b[39m\u001b[38;5;241m.\u001b[39m_has_reset:\n\u001b[0;32m     36\u001b[0m     \u001b[38;5;28;01mraise\u001b[39;00m ResetNeeded(\u001b[38;5;124m\"\u001b[39m\u001b[38;5;124mCannot call env.step() before calling env.reset()\u001b[39m\u001b[38;5;124m\"\u001b[39m)\n\u001b[1;32m---> 37\u001b[0m \u001b[38;5;28;01mreturn\u001b[39;00m \u001b[38;5;28;43mself\u001b[39;49m\u001b[38;5;241;43m.\u001b[39;49m\u001b[43menv\u001b[49m\u001b[38;5;241;43m.\u001b[39;49m\u001b[43mstep\u001b[49m\u001b[43m(\u001b[49m\u001b[43maction\u001b[49m\u001b[43m)\u001b[49m\n",
      "File \u001b[1;32m~\\anaconda3\\envs\\rl_game_pip\\lib\\site-packages\\gym\\wrappers\\env_checker.py:39\u001b[0m, in \u001b[0;36mPassiveEnvChecker.step\u001b[1;34m(self, action)\u001b[0m\n\u001b[0;32m     37\u001b[0m     \u001b[38;5;28;01mreturn\u001b[39;00m env_step_passive_checker(\u001b[38;5;28mself\u001b[39m\u001b[38;5;241m.\u001b[39menv, action)\n\u001b[0;32m     38\u001b[0m \u001b[38;5;28;01melse\u001b[39;00m:\n\u001b[1;32m---> 39\u001b[0m     \u001b[38;5;28;01mreturn\u001b[39;00m \u001b[38;5;28;43mself\u001b[39;49m\u001b[38;5;241;43m.\u001b[39;49m\u001b[43menv\u001b[49m\u001b[38;5;241;43m.\u001b[39;49m\u001b[43mstep\u001b[49m\u001b[43m(\u001b[49m\u001b[43maction\u001b[49m\u001b[43m)\u001b[49m\n",
      "File \u001b[1;32m~\\anaconda3\\envs\\rl_game_pip\\lib\\site-packages\\gym\\envs\\box2d\\car_racing.py:543\u001b[0m, in \u001b[0;36mCarRacing.step\u001b[1;34m(self, action)\u001b[0m\n\u001b[0;32m    540\u001b[0m \u001b[38;5;28mself\u001b[39m\u001b[38;5;241m.\u001b[39mworld\u001b[38;5;241m.\u001b[39mStep(\u001b[38;5;241m1.0\u001b[39m \u001b[38;5;241m/\u001b[39m FPS, \u001b[38;5;241m6\u001b[39m \u001b[38;5;241m*\u001b[39m \u001b[38;5;241m30\u001b[39m, \u001b[38;5;241m2\u001b[39m \u001b[38;5;241m*\u001b[39m \u001b[38;5;241m30\u001b[39m)\n\u001b[0;32m    541\u001b[0m \u001b[38;5;28mself\u001b[39m\u001b[38;5;241m.\u001b[39mt \u001b[38;5;241m+\u001b[39m\u001b[38;5;241m=\u001b[39m \u001b[38;5;241m1.0\u001b[39m \u001b[38;5;241m/\u001b[39m FPS\n\u001b[1;32m--> 543\u001b[0m \u001b[38;5;28mself\u001b[39m\u001b[38;5;241m.\u001b[39mstate \u001b[38;5;241m=\u001b[39m \u001b[38;5;28;43mself\u001b[39;49m\u001b[38;5;241;43m.\u001b[39;49m\u001b[43m_render\u001b[49m\u001b[43m(\u001b[49m\u001b[38;5;124;43m\"\u001b[39;49m\u001b[38;5;124;43mstate_pixels\u001b[39;49m\u001b[38;5;124;43m\"\u001b[39;49m\u001b[43m)\u001b[49m\n\u001b[0;32m    545\u001b[0m step_reward \u001b[38;5;241m=\u001b[39m \u001b[38;5;241m0\u001b[39m\n\u001b[0;32m    546\u001b[0m terminated \u001b[38;5;241m=\u001b[39m \u001b[38;5;28;01mFalse\u001b[39;00m\n",
      "File \u001b[1;32m~\\anaconda3\\envs\\rl_game_pip\\lib\\site-packages\\gym\\envs\\box2d\\car_racing.py:622\u001b[0m, in \u001b[0;36mCarRacing._render\u001b[1;34m(self, mode)\u001b[0m\n\u001b[0;32m    619\u001b[0m \u001b[38;5;66;03m# showing stats\u001b[39;00m\n\u001b[0;32m    620\u001b[0m \u001b[38;5;28mself\u001b[39m\u001b[38;5;241m.\u001b[39m_render_indicators(WINDOW_W, WINDOW_H)\n\u001b[1;32m--> 622\u001b[0m font \u001b[38;5;241m=\u001b[39m \u001b[43mpygame\u001b[49m\u001b[38;5;241;43m.\u001b[39;49m\u001b[43mfont\u001b[49m\u001b[38;5;241;43m.\u001b[39;49m\u001b[43mFont\u001b[49m\u001b[43m(\u001b[49m\u001b[43mpygame\u001b[49m\u001b[38;5;241;43m.\u001b[39;49m\u001b[43mfont\u001b[49m\u001b[38;5;241;43m.\u001b[39;49m\u001b[43mget_default_font\u001b[49m\u001b[43m(\u001b[49m\u001b[43m)\u001b[49m\u001b[43m,\u001b[49m\u001b[43m \u001b[49m\u001b[38;5;241;43m42\u001b[39;49m\u001b[43m)\u001b[49m\n\u001b[0;32m    623\u001b[0m text \u001b[38;5;241m=\u001b[39m font\u001b[38;5;241m.\u001b[39mrender(\u001b[38;5;124m\"\u001b[39m\u001b[38;5;132;01m%04i\u001b[39;00m\u001b[38;5;124m\"\u001b[39m \u001b[38;5;241m%\u001b[39m \u001b[38;5;28mself\u001b[39m\u001b[38;5;241m.\u001b[39mreward, \u001b[38;5;28;01mTrue\u001b[39;00m, (\u001b[38;5;241m255\u001b[39m, \u001b[38;5;241m255\u001b[39m, \u001b[38;5;241m255\u001b[39m), (\u001b[38;5;241m0\u001b[39m, \u001b[38;5;241m0\u001b[39m, \u001b[38;5;241m0\u001b[39m))\n\u001b[0;32m    624\u001b[0m text_rect \u001b[38;5;241m=\u001b[39m text\u001b[38;5;241m.\u001b[39mget_rect()\n",
      "File \u001b[1;32m~\\anaconda3\\envs\\rl_game_pip\\lib\\site-packages\\pygame\\pkgdata.py:65\u001b[0m, in \u001b[0;36mgetResource\u001b[1;34m(identifier, pkgname)\u001b[0m\n\u001b[0;32m     47\u001b[0m \u001b[38;5;250m\u001b[39m\u001b[38;5;124;03m\"\"\"\u001b[39;00m\n\u001b[0;32m     48\u001b[0m \u001b[38;5;124;03mAcquire a readable object for a given package name and identifier.\u001b[39;00m\n\u001b[0;32m     49\u001b[0m \u001b[38;5;124;03mAn IOError will be raised if the resource can not be found.\u001b[39;00m\n\u001b[1;32m   (...)\u001b[0m\n\u001b[0;32m     60\u001b[0m \u001b[38;5;124;03mbe handing data off to a C API.\u001b[39;00m\n\u001b[0;32m     61\u001b[0m \u001b[38;5;124;03m\"\"\"\u001b[39;00m\n\u001b[0;32m     63\u001b[0m \u001b[38;5;66;03m# When pyinstaller (or similar tools) are used, resource_exists may raise\u001b[39;00m\n\u001b[0;32m     64\u001b[0m \u001b[38;5;66;03m# NotImplemented error\u001b[39;00m\n\u001b[1;32m---> 65\u001b[0m \u001b[38;5;28;01mtry\u001b[39;00m:\n\u001b[0;32m     66\u001b[0m     \u001b[38;5;28;01mif\u001b[39;00m resource_exists(pkgname, identifier):\n\u001b[0;32m     67\u001b[0m         \u001b[38;5;28;01mreturn\u001b[39;00m resource_stream(pkgname, identifier)\n",
      "\u001b[1;31mKeyboardInterrupt\u001b[0m: "
     ]
    }
   ],
   "source": [
    "while i_episode <= cfg.NUM_EPISODES:\n",
    "    \n",
    "    steps_done_round = 0\n",
    "    list_reward_round = []\n",
    "    list_loss_round = []\n",
    "    print(f'i_episode: {i_episode}, eps_threshold: {eps_threshold:.{cfg.SF}f}')\n",
    "    \n",
    "    state, info = env.reset()\n",
    "    prev_state = None\n",
    "\n",
    "    # as the image is zooming in the first 50 steps and it wil affect learning, do not interact with env\n",
    "    for i in range(step_waiting):\n",
    "        _, _, _, _, _ = env.step(0)\n",
    "        steps_done_round += 1\n",
    "        \n",
    "    state = preprocess_img(state)\n",
    "    state = torch.tensor(state, dtype=torch.float32, device=device).unsqueeze(0)\n",
    "    \n",
    "    for t in count():\n",
    "        \n",
    "        steps_done += 1\n",
    "        steps_done_round += 1\n",
    "        eps_threshold = find_eps_thres(cfg, steps_done)\n",
    "        \n",
    "        if prev_state is None:\n",
    "            prev_state = state\n",
    "        states = torch.concat((prev_state, state)).unsqueeze(0)\n",
    "        action = select_action(policy_net, states, eps_threshold)\n",
    "        observation, reward, terminated, truncated, _ = env.step(action)\n",
    "        \n",
    "        # increase the positive reward to encourage using gas\n",
    "        if reward > 0:\n",
    "            reward = reward * 3.5\n",
    "        \n",
    "        # if off track, penalise\n",
    "        with torch.no_grad():\n",
    "            outputs = on_track_cls_net(state.unsqueeze(0))\n",
    "        on_off_track = output_to_arr(outputs)[0]\n",
    "        if on_off_track == off_track_label:\n",
    "            reward -= 0.1\n",
    "        \n",
    "        # save the img to train a on track classifier model\n",
    "        if collect_img:            \n",
    "            img_num += 1\n",
    "            if img_num % 10 == 0:\n",
    "                img = Image.fromarray(observation, 'RGB')\n",
    "                img.save(os.path.join(dir_auto_img, f'{img_num}.png'))\n",
    "        \n",
    "        list_reward_round.append(reward)\n",
    "        \n",
    "        reward = torch.tensor([reward], device=device)\n",
    "        observation = preprocess_img(observation)\n",
    "        next_state = torch.tensor(observation,\n",
    "                                      dtype=torch.float32, device=device).unsqueeze(0)\n",
    "        done = terminated or truncated\n",
    "        # Store the transition in memory\n",
    "        next_states = torch.concat((state, next_state)).unsqueeze(0)\n",
    "        memory.push(states, action, next_states, reward)\n",
    "        prev_state = state\n",
    "        state = next_state\n",
    "        \n",
    "        if len(memory) >= 3000:\n",
    "            if len(memory) == 3000:\n",
    "                print('start to train model')\n",
    "            # Perform one step of the optimization (on the policy network)\n",
    "            loss = optimize_model(policy_net, target_net, memory, optimizer,\n",
    "                                  cfg.BATCH_SIZE, cfg.GAMMA, device)\n",
    "            list_loss_round.append(loss)\n",
    "        \n",
    "        if steps_done % 10 == 0:\n",
    "            # Soft update of the target network's weights\n",
    "            # θ′ ← τ θ + (1 −τ )θ′\n",
    "            target_net_state_dict = target_net.state_dict()\n",
    "            policy_net_state_dict = policy_net.state_dict()\n",
    "            for key in policy_net_state_dict:\n",
    "                target_net_state_dict[key] = policy_net_state_dict[key]*cfg.TAU \\\n",
    "                    + target_net_state_dict[key]*(1-cfg.TAU)\n",
    "            target_net.load_state_dict(target_net_state_dict)\n",
    "        \n",
    "        if done:\n",
    "            sum_reward_round = np.sum(list_reward_round)\n",
    "            list_reward_round_sum.append(sum_reward_round)\n",
    "            avg_loss_round = np.mean([x.cpu().detach().numpy() for x in list_loss_round])\n",
    "            list_round_avg_loss.append(avg_loss_round)\n",
    "            wandb.log({\"reward_round\": sum_reward_round, 'avg_loss_round': avg_loss_round})\n",
    "            \n",
    "            i_episode += 1\n",
    "            \n",
    "            break"
   ]
  },
  {
   "cell_type": "code",
   "execution_count": 9,
   "id": "55d3dd71-b992-49bd-ad1b-f69406796659",
   "metadata": {},
   "outputs": [],
   "source": [
    "env.close()"
   ]
  },
  {
   "cell_type": "code",
   "execution_count": null,
   "id": "7512b7cc-ad44-437e-bee4-a57c4b369f2c",
   "metadata": {},
   "outputs": [],
   "source": [
    "stop"
   ]
  },
  {
   "cell_type": "code",
   "execution_count": 10,
   "id": "a043e91e-f9e0-4df7-8132-596243e67bee",
   "metadata": {},
   "outputs": [],
   "source": [
    "torch.save(policy_net.state_dict(), f'poli_{cfg.md_name}')\n",
    "torch.save(target_net.state_dict(), f'tg_{cfg.md_name}')\n",
    "\n",
    "dict_cp = {\n",
    "    'memory': memory,\n",
    "    'list_reward_round_sum': list_reward_round_sum,\n",
    "    'list_round_avg_loss': list_round_avg_loss,\n",
    "    'steps_done': steps_done,\n",
    "    'i_episode': i_episode,\n",
    "    'eps_threshold': eps_threshold\n",
    "}\n",
    "\n",
    "with open(f\"dict_cp_{cfg.md_name.split('.')[0]}.pkl\",'wb') as output:\n",
    "      pickle.dump(dict_cp, output)"
   ]
  },
  {
   "cell_type": "code",
   "execution_count": null,
   "id": "bde5835f-93d4-4a07-a22a-655536f729a0",
   "metadata": {},
   "outputs": [],
   "source": []
  },
  {
   "cell_type": "code",
   "execution_count": 11,
   "id": "d6c623da-cff4-4920-ab2e-9386973385f4",
   "metadata": {},
   "outputs": [
    {
     "data": {
      "text/plain": [
       "<Axes: >"
      ]
     },
     "execution_count": 11,
     "metadata": {},
     "output_type": "execute_result"
    },
    {
     "data": {
      "image/png": "[encoded data removed]",
      "text/plain": [
       "<Figure size 640x480 with 2 Axes>"
      ]
     },
     "metadata": {},
     "output_type": "display_data"
    }
   ],
   "source": [
    "import pandas as pd\n",
    "df_reward_round_sum = pd.DataFrame(\n",
    "    {'reward_round_sum': list_reward_round_sum,\n",
    "    'round_avg_loss': list_round_avg_loss\n",
    "    })\n",
    "\n",
    "ax = df_reward_round_sum.reward_round_sum.plot(legend=True)\n",
    "df_reward_round_sum.round_avg_loss.plot(ax=ax,\n",
    "                                        color='r',secondary_y=True, legend=True)"
   ]
  },
  {
   "cell_type": "code",
   "execution_count": null,
   "id": "2251f161-9f14-4b78-a635-f7434e9c4c03",
   "metadata": {},
   "outputs": [],
   "source": []
  },
  {
   "cell_type": "code",
   "execution_count": null,
   "id": "621e2e24-3235-41bd-978d-be7e048e4679",
   "metadata": {},
   "outputs": [],
   "source": []
  },
  {
   "cell_type": "code",
   "execution_count": null,
   "id": "100c4319-41d5-4f9c-8a50-feb08b605570",
   "metadata": {},
   "outputs": [],
   "source": []
  }
 ],
 "metadata": {
  "kernelspec": {
   "display_name": "rl_game_pip",
   "language": "python",
   "name": "rl_game_pip"
  },
  "language_info": {
   "codemirror_mode": {
    "name": "ipython",
    "version": 3
   },
   "file_extension": ".py",
   "mimetype": "text/x-python",
   "name": "python",
   "nbconvert_exporter": "python",
   "pygments_lexer": "ipython3",
   "version": "3.9.16"
  }
 },
 "nbformat": 4,
 "nbformat_minor": 5
}
